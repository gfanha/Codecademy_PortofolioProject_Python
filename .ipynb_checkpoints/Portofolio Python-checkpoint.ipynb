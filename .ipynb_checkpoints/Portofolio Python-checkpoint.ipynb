{
 "cells": [
  {
   "cell_type": "code",
   "execution_count": 58,
   "id": "505079cb",
   "metadata": {},
   "outputs": [],
   "source": [
    "class Climate:\n",
    "    def __init__(self,year,average_temp, average_unc, city, country,latitude,longitude):\n",
    "        self.measure_year = year\n",
    "        self.avg_temp = average_temp\n",
    "        self.avg_unc = average_unc\n",
    "        self.city = city\n",
    "        self.country = country\n",
    "        self.latitude = latitude\n",
    "        self.longitude = longitude   \n",
    "    def analyse_countries(self):\n",
    "        country_count = []\n",
    "        for country in self.country:\n",
    "            if (country in country_count) == False:\n",
    "                country_count.append(country)\n",
    "        print('There are {} countries in the data base'.format(len(country_count)))\n",
    "        return country_count"
   ]
  },
  {
   "cell_type": "code",
   "execution_count": 39,
   "id": "d3957168",
   "metadata": {},
   "outputs": [],
   "source": [
    "#import data from csv\n",
    "dates = []\n",
    "average_temp = []\n",
    "average_temp_unc = []\n",
    "cities=[0]\n",
    "countries = []\n",
    "latitudes=[]\n",
    "longitudes = []\n",
    "years=[0]\n",
    "temperature_sum=0\n",
    "uncertainty_sum = 0\n",
    "i=0\n",
    "import csv\n",
    "from datetime import datetime\n",
    "with open('GlobalLandTemperatures_GlobalLandTemperaturesByMajorCity.csv', newline='') as data_climate:\n",
    "    dataset = csv.DictReader(data_climate)  \n",
    "    for row in dataset:\n",
    "        #get year from measurement\n",
    "        year = (datetime.strptime(row['dt'],'%Y-%m-%d')).year\n",
    "        #collect data to lists\n",
    "        if row['AverageTemperature'] != '':\n",
    "            if years[-1] == year and cities[-1] == row['City']:\n",
    "                temperature_sum = temperature_sum + float(row['AverageTemperature'])\n",
    "                uncertainty_sum = uncertainty_sum + float(row['AverageTemperatureUncertainty'])\n",
    "                i += 1\n",
    "            else:\n",
    "                if temperature_sum !=0 and uncertainty_sum != 0:\n",
    "                    average_temp.append(temperature_sum/i)\n",
    "                    average_temp_unc.append(uncertainty_sum/i)\n",
    "\n",
    "                temperature_sum = 0\n",
    "                uncertainty_sum = 0\n",
    "                i = 0\n",
    "                years.append(year)\n",
    "                cities.append(row['City'])\n",
    "                countries.append(row['Country'])\n",
    "                latitudes.append(row['Latitude'])\n",
    "                longitudes.append(row['Longitude'])\n",
    "    del years[0]\n",
    "    del cities[0]"
   ]
  },
  {
   "cell_type": "code",
   "execution_count": 59,
   "id": "4c520f20",
   "metadata": {},
   "outputs": [],
   "source": [
    "climate_data_rec = Climate(years, average_temp, average_temp_unc, cities, countries, latitudes, longitudes)"
   ]
  },
  {
   "cell_type": "code",
   "execution_count": 60,
   "id": "2b8e9449",
   "metadata": {},
   "outputs": [
    {
     "name": "stdout",
     "output_type": "stream",
     "text": [
      "There are 49 countries in the data base\n"
     ]
    }
   ],
   "source": [
    "data = climate_data_rec.analyse_countries()"
   ]
  },
  {
   "cell_type": "code",
   "execution_count": null,
   "id": "e2bc9782",
   "metadata": {},
   "outputs": [],
   "source": []
  },
  {
   "cell_type": "code",
   "execution_count": null,
   "id": "dd110afd",
   "metadata": {},
   "outputs": [],
   "source": []
  },
  {
   "cell_type": "code",
   "execution_count": null,
   "id": "9ac9ed52",
   "metadata": {},
   "outputs": [],
   "source": []
  }
 ],
 "metadata": {
  "kernelspec": {
   "display_name": "Python 3",
   "language": "python",
   "name": "python3"
  },
  "language_info": {
   "codemirror_mode": {
    "name": "ipython",
    "version": 3
   },
   "file_extension": ".py",
   "mimetype": "text/x-python",
   "name": "python",
   "nbconvert_exporter": "python",
   "pygments_lexer": "ipython3",
   "version": "3.8.8"
  }
 },
 "nbformat": 4,
 "nbformat_minor": 5
}
